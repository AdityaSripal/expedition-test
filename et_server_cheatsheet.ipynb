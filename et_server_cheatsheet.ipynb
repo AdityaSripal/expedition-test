{
 "cells": [
  {
   "cell_type": "code",
   "execution_count": 6,
   "metadata": {},
   "outputs": [],
   "source": [
    "# Setup\n",
    "import et\n",
    "server = et.server.ServerConnection('172.16.126.128', 'admin', 'paloalto')\n",
    "server.initialize()"
   ]
  },
  {
   "cell_type": "markdown",
   "metadata": {},
   "source": [
    "## Server Testing Cheatsheet:\n",
    "\n",
    "#### Properties are available for quick and easy validation.\n",
    "\n",
    "For properties like devices, projects, snippets, etc; there is the {prop}_total property and the {prop}s property.\n",
    "\n",
    "Take devices as an example:\n",
    "\n",
    "device_total property returns an integer representing the number of devices\n",
    "\n",
    "devices property returns a list where each element is a dictionary of the device attributes."
   ]
  },
  {
   "cell_type": "code",
   "execution_count": 7,
   "metadata": {},
   "outputs": [
    {
     "name": "stdout",
     "output_type": "stream",
     "text": [
      "2\n",
      "\n",
      "[{'id': 32, 'devicename': 'fake', 'hostname': '7.7.7.7', 'port': 443, 'type': 'vm-series', 'description': '', 'created_at': '2017-08-05 02:41:55', 'updated_at': '2017-08-05 02:41:55', 'active': 1, 'panos': '', 'threats': 0, 'apps': 0, 'ispanorama': 0, 'config': 0, 'serial': '88', 'serialHA': '', 'vsys': 'vsys1', 'appversion': '0', 'appreleasedate': '0000-00-00 00:00:00', 'threatversion': '0', 'threatreleasedate': '0000-00-00 00:00:00', 'device': '', 'management': '', 'urldb': '', 'connected': '', 'deactivated': '', 'wildfireversion': '', 'uptime': '', 'avversion': None, 'urlfilteringversion': None, 'logtype': 'csv', 'csv_path': '', 'licenses': None, 'warning': '[]', 'admin': True}, {'id': 83, 'devicename': 'numbers', 'hostname': '5.5.5.5', 'port': 443, 'type': 'vm-series', 'description': '', 'created_at': '2017-08-09 22:27:55', 'updated_at': '2017-08-09 22:27:55', 'active': 1, 'panos': '', 'threats': 0, 'apps': 0, 'ispanorama': 0, 'config': 0, 'serial': '678', 'serialHA': '', 'vsys': 'vsys1', 'appversion': '0', 'appreleasedate': '0000-00-00 00:00:00', 'threatversion': '0', 'threatreleasedate': '0000-00-00 00:00:00', 'device': '', 'management': '', 'urldb': '', 'connected': '', 'deactivated': '', 'wildfireversion': '', 'uptime': '', 'avversion': None, 'urlfilteringversion': None, 'logtype': 'csv', 'csv_path': '', 'licenses': None, 'warning': '[]', 'admin': True}]\n"
     ]
    }
   ],
   "source": [
    "print(server.device_total)\n",
    "print()\n",
    "print(server.devices)"
   ]
  },
  {
   "cell_type": "markdown",
   "metadata": {},
   "source": [
    "#### Path:\n",
    "For all server functions, providing the path of the file is simply equivalent to providing the path after the IP address and before the .php extension in the URL.\n",
    "\n",
    "Ex: URL = https://1.2.3.4/five/six.php ==> path = 'five/six'"
   ]
  },
  {
   "cell_type": "markdown",
   "metadata": {},
   "source": [
    "#### get_list(path, **kwargs)\n",
    "\n",
    "get_list is a function that wraps the GET method and includes the most common URL params:\n",
    "\n",
    "'_dc': self._dc\n",
    "\n",
    "'page': 1\n",
    "\n",
    "'start': 0\n",
    "\n",
    "'limit': 200\n",
    "\n",
    "If you wish to override these params or add new ones, you pass the desired params like so:\n",
    "\n",
    "server.get_list('five/six', seven=7)\n",
    "\n",
    "server.get_list('five/six', {'seven': 7})"
   ]
  },
  {
   "cell_type": "code",
   "execution_count": 8,
   "metadata": {},
   "outputs": [
    {
     "data": {
      "text/plain": [
       "{'devices': [{'active': 1,\n",
       "   'admin': True,\n",
       "   'appreleasedate': '0000-00-00 00:00:00',\n",
       "   'apps': 0,\n",
       "   'appversion': '0',\n",
       "   'avversion': None,\n",
       "   'config': 0,\n",
       "   'connected': '',\n",
       "   'created_at': '2017-08-05 02:41:55',\n",
       "   'csv_path': '',\n",
       "   'deactivated': '',\n",
       "   'description': '',\n",
       "   'device': '',\n",
       "   'devicename': 'fake',\n",
       "   'hostname': '7.7.7.7',\n",
       "   'id': 32,\n",
       "   'ispanorama': 0,\n",
       "   'licenses': None,\n",
       "   'logtype': 'csv',\n",
       "   'management': '',\n",
       "   'panos': '',\n",
       "   'port': 443,\n",
       "   'serial': '88',\n",
       "   'serialHA': '',\n",
       "   'threatreleasedate': '0000-00-00 00:00:00',\n",
       "   'threats': 0,\n",
       "   'threatversion': '0',\n",
       "   'type': 'vm-series',\n",
       "   'updated_at': '2017-08-05 02:41:55',\n",
       "   'uptime': '',\n",
       "   'urldb': '',\n",
       "   'urlfilteringversion': None,\n",
       "   'vsys': 'vsys1',\n",
       "   'warning': '[]',\n",
       "   'wildfireversion': ''},\n",
       "  {'active': 1,\n",
       "   'admin': True,\n",
       "   'appreleasedate': '0000-00-00 00:00:00',\n",
       "   'apps': 0,\n",
       "   'appversion': '0',\n",
       "   'avversion': None,\n",
       "   'config': 0,\n",
       "   'connected': '',\n",
       "   'created_at': '2017-08-09 22:27:55',\n",
       "   'csv_path': '',\n",
       "   'deactivated': '',\n",
       "   'description': '',\n",
       "   'device': '',\n",
       "   'devicename': 'numbers',\n",
       "   'hostname': '5.5.5.5',\n",
       "   'id': 83,\n",
       "   'ispanorama': 0,\n",
       "   'licenses': None,\n",
       "   'logtype': 'csv',\n",
       "   'management': '',\n",
       "   'panos': '',\n",
       "   'port': 443,\n",
       "   'serial': '678',\n",
       "   'serialHA': '',\n",
       "   'threatreleasedate': '0000-00-00 00:00:00',\n",
       "   'threats': 0,\n",
       "   'threatversion': '0',\n",
       "   'type': 'vm-series',\n",
       "   'updated_at': '2017-08-09 22:27:55',\n",
       "   'uptime': '',\n",
       "   'urldb': '',\n",
       "   'urlfilteringversion': None,\n",
       "   'vsys': 'vsys1',\n",
       "   'warning': '[]',\n",
       "   'wildfireversion': ''}],\n",
       " 'total': 2}"
      ]
     },
     "execution_count": 8,
     "metadata": {},
     "output_type": "execute_result"
    }
   ],
   "source": [
    "server.get_list('bin/authentication/devices/devices', scope='direct')"
   ]
  },
  {
   "cell_type": "markdown",
   "metadata": {},
   "source": [
    "###### post(path, data, params=None, flag=False)\n",
    "\n",
    "post is a function that wraps the POST method\n",
    "\n",
    "data is a dictionary of the data to be posted.\n",
    "\n",
    "params is an optional dictionary that is used to specify any additional URL params after the path\n",
    "\n",
    "In rare cases, this will throw a parsing error. In such situations, flip flag to True."
   ]
  },
  {
   "cell_type": "code",
   "execution_count": 9,
   "metadata": {},
   "outputs": [
    {
     "data": {
      "text/plain": [
       "{'snippets': [{'data': '<entry name=\"icmp_source_quench\">\\n<category>networking</category>\\n<subcategory>ip-protocol</subcategory>\\n<technology>network-protocol</technology>\\n<risk>1</risk>\\n<consume-big-bandwidth>no</consume-big-bandwidth>\\n<able-to-transfer-file>no</able-to-transfer-file>\\n<used-by-malware>no</used-by-malware>\\n<evasive-behavior>no</evasive-behavior>\\n<has-known-vulnerability>no</has-known-vulnerability>\\n<pervasive-use>no</pervasive-use>\\n<prone-to-misuse>no</prone-to-misuse>\\n<tunnel-applications>no</tunnel-applications>\\n<tunnel-other-application>no</tunnel-other-application>\\n<data-ident>no</data-ident>\\n<virus-ident>no</virus-ident>\\n<file-type-ident>no</file-type-ident>\\n<spyware-ident>no</spyware-ident>\\n<default>\\n<ident-by-icmp-type>4</ident-by-icmp-type>\\n</default>\\n</entry>',\n",
       "   'description': 'Custom appID to control icmp_source_quench',\n",
       "   'id': '1',\n",
       "   'name': 'icmp_source_quench',\n",
       "   'panos': '4.0',\n",
       "   'type': 'appid'},\n",
       "  {'data': '<entry name=\"icmp_any\">\\n<category>networking</category>\\n<subcategory>ip-protocol</subcategory>\\n<technology>network-protocol</technology>\\n<risk>1</risk>\\n<consume-big-bandwidth>no</consume-big-bandwidth>\\n<able-to-transfer-file>no</able-to-transfer-file>\\n<used-by-malware>no</used-by-malware>\\n<evasive-behavior>no</evasive-behavior>\\n<has-known-vulnerability>no</has-known-vulnerability>\\n<pervasive-use>no</pervasive-use>\\n<prone-to-misuse>no</prone-to-misuse>\\n<tunnel-applications>no</tunnel-applications>\\n<tunnel-other-application>no</tunnel-other-application>\\n<data-ident>no</data-ident>\\n<virus-ident>no</virus-ident>\\n<file-type-ident>no</file-type-ident>\\n<spyware-ident>no</spyware-ident>\\n<default>\\n<ident-by-ip-protocol>1</ident-by-ip-protocol>\\n</default>\\n</entry>',\n",
       "   'description': 'Custom appID to control icmp_any',\n",
       "   'id': '2',\n",
       "   'name': 'icmp_any',\n",
       "   'panos': '4.0',\n",
       "   'type': 'appid'},\n",
       "  {'data': '<entry name=\"icmp_timestamp\">\\n<category>networking</category>\\n<subcategory>ip-protocol</subcategory>\\n<technology>network-protocol</technology>\\n<risk>1</risk>\\n<consume-big-bandwidth>no</consume-big-bandwidth>\\n<able-to-transfer-file>no</able-to-transfer-file>\\n<used-by-malware>no</used-by-malware>\\n<evasive-behavior>no</evasive-behavior>\\n<has-known-vulnerability>no</has-known-vulnerability>\\n<pervasive-use>no</pervasive-use>\\n<prone-to-misuse>no</prone-to-misuse>\\n<tunnel-applications>no</tunnel-applications>\\n<tunnel-other-application>no</tunnel-other-application>\\n<data-ident>no</data-ident>\\n<virus-ident>no</virus-ident>\\n<file-type-ident>no</file-type-ident>\\n<spyware-ident>no</spyware-ident>\\n<default>\\n<ident-by-icmp-type>13</ident-by-icmp-type>\\n</default>\\n</entry>',\n",
       "   'description': 'Custom appID to control icmp_timestamp',\n",
       "   'id': '3',\n",
       "   'name': 'icmp_timestamp',\n",
       "   'panos': '4.0',\n",
       "   'type': 'appid'},\n",
       "  {'data': '<entry name=\"icmp_info\">\\n<category>networking</category>\\n<subcategory>ip-protocol</subcategory>\\n<technology>network-protocol</technology>\\n<risk>1</risk>\\n<consume-big-bandwidth>no</consume-big-bandwidth>\\n<able-to-transfer-file>no</able-to-transfer-file>\\n<used-by-malware>no</used-by-malware>\\n<evasive-behavior>no</evasive-behavior>\\n<has-known-vulnerability>no</has-known-vulnerability>\\n<pervasive-use>no</pervasive-use>\\n<prone-to-misuse>no</prone-to-misuse>\\n<tunnel-applications>no</tunnel-applications>\\n<tunnel-other-application>no</tunnel-other-application>\\n<data-ident>no</data-ident>\\n<virus-ident>no</virus-ident>\\n<file-type-ident>no</file-type-ident>\\n<spyware-ident>no</spyware-ident>\\n<default>\\n<ident-by-icmp-type>15</ident-by-icmp-type>\\n</default>\\n</entry>',\n",
       "   'description': 'Custom appID to control icmp_info',\n",
       "   'id': '4',\n",
       "   'name': 'icmp_info',\n",
       "   'panos': '4.0',\n",
       "   'type': 'appid'},\n",
       "  {'data': '<entry name=\"icmp_address_mask\">\\n<category>networking</category>\\n<subcategory>ip-protocol</subcategory>\\n<technology>network-protocol</technology>\\n<risk>1</risk>\\n<consume-big-bandwidth>no</consume-big-bandwidth>\\n<able-to-transfer-file>no</able-to-transfer-file>\\n<used-by-malware>no</used-by-malware>\\n<evasive-behavior>no</evasive-behavior>\\n<has-known-vulnerability>no</has-known-vulnerability>\\n<pervasive-use>no</pervasive-use>\\n<prone-to-misuse>no</prone-to-misuse>\\n<tunnel-applications>no</tunnel-applications>\\n<tunnel-other-application>no</tunnel-other-application>\\n<data-ident>no</data-ident>\\n<virus-ident>no</virus-ident>\\n<file-type-ident>no</file-type-ident>\\n<spyware-ident>no</spyware-ident>\\n<default>\\n<ident-by-icmp-type>17</ident-by-icmp-type>\\n</default>\\n</entry>',\n",
       "   'description': 'Custom appID to control icmp_address_mask',\n",
       "   'id': '5',\n",
       "   'name': 'icmp_address_mask',\n",
       "   'panos': '4.0',\n",
       "   'type': 'appid'},\n",
       "  {'data': '<entry name=\"icmp_redirect\">\\n<category>networking</category>\\n<subcategory>ip-protocol</subcategory>\\n<technology>network-protocol</technology>\\n<risk>1</risk>\\n<consume-big-bandwidth>no</consume-big-bandwidth>\\n<able-to-transfer-file>no</able-to-transfer-file>\\n<used-by-malware>no</used-by-malware>\\n<evasive-behavior>no</evasive-behavior>\\n<has-known-vulnerability>no</has-known-vulnerability>\\n<pervasive-use>no</pervasive-use>\\n<prone-to-misuse>no</prone-to-misuse>\\n<tunnel-applications>no</tunnel-applications>\\n<tunnel-other-application>no</tunnel-other-application>\\n<data-ident>no</data-ident>\\n<virus-ident>no</virus-ident>\\n<file-type-ident>no</file-type-ident>\\n<spyware-ident>no</spyware-ident>\\n<default>\\n<ident-by-icmp-type>5</ident-by-icmp-type>\\n</default>\\n</entry>',\n",
       "   'description': 'Custom appID to control icmp_redirect',\n",
       "   'id': '6',\n",
       "   'name': 'icmp_redirect',\n",
       "   'panos': '4.0',\n",
       "   'type': 'appid'},\n",
       "  {'data': '<entry name=\"icmp_destination_unreachable\">\\n<category>networking</category>\\n<subcategory>ip-protocol</subcategory>\\n<technology>network-protocol</technology>\\n<risk>1</risk>\\n<consume-big-bandwidth>no</consume-big-bandwidth>\\n<able-to-transfer-file>no</able-to-transfer-file>\\n<used-by-malware>no</used-by-malware>\\n<evasive-behavior>no</evasive-behavior>\\n<has-known-vulnerability>no</has-known-vulnerability>\\n<pervasive-use>no</pervasive-use>\\n<prone-to-misuse>no</prone-to-misuse>\\n<tunnel-applications>no</tunnel-applications>\\n<tunnel-other-application>no</tunnel-other-application>\\n<data-ident>no</data-ident>\\n<virus-ident>no</virus-ident>\\n<file-type-ident>no</file-type-ident>\\n<spyware-ident>no</spyware-ident>\\n<default>\\n<ident-by-icmp-type>3</ident-by-icmp-type>\\n</default>\\n</entry>',\n",
       "   'description': 'Custom appID to control icmp_destination_unreachable',\n",
       "   'id': '7',\n",
       "   'name': 'icmp_destination_unreachable',\n",
       "   'panos': '4.0',\n",
       "   'type': 'appid'},\n",
       "  {'data': '<entry name=\"icmp_time_exceeded\">\\n<category>networking</category>\\n<subcategory>ip-protocol</subcategory>\\n<technology>network-protocol</technology>\\n<risk>1</risk>\\n<consume-big-bandwidth>no</consume-big-bandwidth>\\n<able-to-transfer-file>no</able-to-transfer-file>\\n<used-by-malware>no</used-by-malware>\\n<evasive-behavior>no</evasive-behavior>\\n<has-known-vulnerability>no</has-known-vulnerability>\\n<pervasive-use>no</pervasive-use>\\n<prone-to-misuse>no</prone-to-misuse>\\n<tunnel-applications>no</tunnel-applications>\\n<tunnel-other-application>no</tunnel-other-application>\\n<data-ident>no</data-ident>\\n<virus-ident>no</virus-ident>\\n<file-type-ident>no</file-type-ident>\\n<spyware-ident>no</spyware-ident>\\n<default>\\n<ident-by-icmp-type>11</ident-by-icmp-type>\\n</default>\\n</entry>',\n",
       "   'description': 'Custom appID to control icmp_time_exceeded',\n",
       "   'id': '8',\n",
       "   'name': 'icmp_time_exceeded',\n",
       "   'panos': '4.0',\n",
       "   'type': 'appid'},\n",
       "  {'data': '<entry name=\"icmp_echo_reply\">\\n<category>networking</category>\\n<subcategory>ip-protocol</subcategory>\\n<technology>network-protocol</technology>\\n<risk>1</risk>\\n<consume-big-bandwidth>no</consume-big-bandwidth>\\n<able-to-transfer-file>no</able-to-transfer-file>\\n<used-by-malware>no</used-by-malware>\\n<evasive-behavior>no</evasive-behavior>\\n<has-known-vulnerability>no</has-known-vulnerability>\\n<pervasive-use>no</pervasive-use>\\n<prone-to-misuse>no</prone-to-misuse>\\n<tunnel-applications>no</tunnel-applications>\\n<tunnel-other-application>no</tunnel-other-application>\\n<data-ident>no</data-ident>\\n<virus-ident>no</virus-ident>\\n<file-type-ident>no</file-type-ident>\\n<spyware-ident>no</spyware-ident>\\n<default>\\n<ident-by-icmp-type>0</ident-by-icmp-type>\\n</default>\\n</entry>',\n",
       "   'description': 'Custom appID to control icmp_echo_reply',\n",
       "   'id': '9',\n",
       "   'name': 'icmp_echo_reply',\n",
       "   'panos': '4.0',\n",
       "   'type': 'appid'},\n",
       "  {'data': '<entry name=\"icmp_echo\">\\n<category>networking</category>\\n<subcategory>ip-protocol</subcategory>\\n<technology>network-protocol</technology>\\n<risk>1</risk>\\n<consume-big-bandwidth>no</consume-big-bandwidth>\\n<able-to-transfer-file>no</able-to-transfer-file>\\n<used-by-malware>no</used-by-malware>\\n<evasive-behavior>no</evasive-behavior>\\n<has-known-vulnerability>no</has-known-vulnerability>\\n<pervasive-use>no</pervasive-use>\\n<prone-to-misuse>no</prone-to-misuse>\\n<tunnel-applications>no</tunnel-applications>\\n<tunnel-other-application>no</tunnel-other-application>\\n<data-ident>no</data-ident>\\n<virus-ident>no</virus-ident>\\n<file-type-ident>no</file-type-ident>\\n<spyware-ident>no</spyware-ident>\\n<default>\\n<ident-by-icmp-type>8</ident-by-icmp-type>\\n</default>\\n</entry>',\n",
       "   'description': 'Custom appID to control icmp_echo',\n",
       "   'id': '10',\n",
       "   'name': 'icmp_echo',\n",
       "   'panos': '4.0',\n",
       "   'type': 'appid'},\n",
       "  {'data': '<entry name=\"AV_Profile\"><decoder><entry name=\"ftp\"><action>default</action><wildfire-action>default</wildfire-action></entry><entry name=\"http\"><action>default</action><wildfire-action>default</wildfire-action></entry><entry name=\"imap\"><action>default</action><wildfire-action>default</wildfire-action></entry><entry name=\"pop3\"><action>default</action><wildfire-action>default</wildfire-action></entry><entry name=\"smb\"><action>default</action><wildfire-action>default</wildfire-action></entry><entry name=\"smtp\"><action>default</action><wildfire-action>default</wildfire-action></entry></decoder><description>Profile AV</description><packet-capture>yes</packet-capture></entry>',\n",
       "   'description': 'Av template',\n",
       "   'id': '11',\n",
       "   'name': 'Profile_AV_Default',\n",
       "   'panos': '5.0',\n",
       "   'type': 'av_profile'},\n",
       "  {'data': '<entry name=\"Logs2Panorama\">\\n<traffic>\\n<any>\\n<send-to-panorama>yes</send-to-panorama>\\n</any>\\n</traffic>\\n<alarm>\\n<critical>\\n<send-to-panorama>yes</send-to-panorama>\\n</critical>\\n<high>\\n<send-to-panorama>yes</send-to-panorama>\\n</high>\\n<medium>\\n<send-to-panorama>yes</send-to-panorama>\\n</medium>\\n<low>\\n<send-to-panorama>yes</send-to-panorama>\\n</low>\\n<informational>\\n<send-to-panorama>yes</send-to-panorama>\\n</informational>\\n</alarm>\\n</entry>',\n",
       "   'description': 'Log Forwarding Profile',\n",
       "   'id': '16',\n",
       "   'name': 'Logs2Panorama',\n",
       "   'panos': '5.0',\n",
       "   'type': 'log_profile'}],\n",
       " 'total': '12'}"
      ]
     },
     "execution_count": 9,
     "metadata": {},
     "output_type": "execute_result"
    }
   ],
   "source": [
    "snip_data = {\n",
    "    'action': 'import',\n",
    "    'project': 'hibye',\n",
    "    'type': 'snippets',\n",
    "    'vsys': 'vsys1',\n",
    "    'ids': '1',\n",
    "    'source': 1\n",
    "}\n",
    "server.post('bin/Snippets', snip_data)"
   ]
  },
  {
   "cell_type": "markdown",
   "metadata": {},
   "source": [
    "There are many prebuilt functions that simply call the above functions for you with the right arguments. Makes the most basic and common API calls trivial to call in ET.\n",
    "\n",
    "Ex: server.get_list('bin/authentication/devices/devices', scope='direct') = server.get_devices()"
   ]
  },
  {
   "cell_type": "code",
   "execution_count": 10,
   "metadata": {},
   "outputs": [
    {
     "data": {
      "text/plain": [
       "{'devices': [{'active': 1,\n",
       "   'admin': True,\n",
       "   'appreleasedate': '0000-00-00 00:00:00',\n",
       "   'apps': 0,\n",
       "   'appversion': '0',\n",
       "   'avversion': None,\n",
       "   'config': 0,\n",
       "   'connected': '',\n",
       "   'created_at': '2017-08-05 02:41:55',\n",
       "   'csv_path': '',\n",
       "   'deactivated': '',\n",
       "   'description': '',\n",
       "   'device': '',\n",
       "   'devicename': 'fake',\n",
       "   'hostname': '7.7.7.7',\n",
       "   'id': 32,\n",
       "   'ispanorama': 0,\n",
       "   'licenses': None,\n",
       "   'logtype': 'csv',\n",
       "   'management': '',\n",
       "   'panos': '',\n",
       "   'port': 443,\n",
       "   'serial': '88',\n",
       "   'serialHA': '',\n",
       "   'threatreleasedate': '0000-00-00 00:00:00',\n",
       "   'threats': 0,\n",
       "   'threatversion': '0',\n",
       "   'type': 'vm-series',\n",
       "   'updated_at': '2017-08-05 02:41:55',\n",
       "   'uptime': '',\n",
       "   'urldb': '',\n",
       "   'urlfilteringversion': None,\n",
       "   'vsys': 'vsys1',\n",
       "   'warning': '[]',\n",
       "   'wildfireversion': ''},\n",
       "  {'active': 1,\n",
       "   'admin': True,\n",
       "   'appreleasedate': '0000-00-00 00:00:00',\n",
       "   'apps': 0,\n",
       "   'appversion': '0',\n",
       "   'avversion': None,\n",
       "   'config': 0,\n",
       "   'connected': '',\n",
       "   'created_at': '2017-08-09 22:27:55',\n",
       "   'csv_path': '',\n",
       "   'deactivated': '',\n",
       "   'description': '',\n",
       "   'device': '',\n",
       "   'devicename': 'numbers',\n",
       "   'hostname': '5.5.5.5',\n",
       "   'id': 83,\n",
       "   'ispanorama': 0,\n",
       "   'licenses': None,\n",
       "   'logtype': 'csv',\n",
       "   'management': '',\n",
       "   'panos': '',\n",
       "   'port': 443,\n",
       "   'serial': '678',\n",
       "   'serialHA': '',\n",
       "   'threatreleasedate': '0000-00-00 00:00:00',\n",
       "   'threats': 0,\n",
       "   'threatversion': '0',\n",
       "   'type': 'vm-series',\n",
       "   'updated_at': '2017-08-09 22:27:55',\n",
       "   'uptime': '',\n",
       "   'urldb': '',\n",
       "   'urlfilteringversion': None,\n",
       "   'vsys': 'vsys1',\n",
       "   'warning': '[]',\n",
       "   'wildfireversion': ''}],\n",
       " 'total': 2}"
      ]
     },
     "execution_count": 10,
     "metadata": {},
     "output_type": "execute_result"
    }
   ],
   "source": [
    "server.get_devices()"
   ]
  },
  {
   "cell_type": "code",
   "execution_count": null,
   "metadata": {
    "collapsed": true
   },
   "outputs": [],
   "source": []
  }
 ],
 "metadata": {
  "kernelspec": {
   "display_name": "expedition",
   "language": "python",
   "name": "expedition"
  },
  "language_info": {
   "codemirror_mode": {
    "name": "ipython",
    "version": 3
   },
   "file_extension": ".py",
   "mimetype": "text/x-python",
   "name": "python",
   "nbconvert_exporter": "python",
   "pygments_lexer": "ipython3",
   "version": "3.6.2"
  }
 },
 "nbformat": 4,
 "nbformat_minor": 2
}
