{
 "cells": [
  {
   "cell_type": "markdown",
   "metadata": {},
   "source": [
    "# ET: Expedition Test Framework"
   ]
  },
  {
   "cell_type": "markdown",
   "metadata": {},
   "source": [
    "## Setup:\n",
    "\n",
    "Setup Virtualenv for Python3: \n",
    "\n",
    "https://medium.com/@briantorresgil/definitive-guide-to-python-on-mac-osx-65acd8d969d0\n",
    "\n",
    "Dependencies:\n",
    "\n",
    "pip install selenium\n",
    "\n",
    "pip install requests\n",
    "\n",
    "pip install pexpect\n",
    "\n",
    "pip install pytest"
   ]
  },
  {
   "cell_type": "code",
   "execution_count": 1,
   "metadata": {
    "collapsed": true
   },
   "outputs": [],
   "source": [
    "# Import the Expedition Test Framework and set global variables\n",
    "# Note in expedition test these variables will be ENV variables along with \n",
    "# SSH username and password\n",
    "import et\n",
    "\n",
    "HOSTNAME='172.16.126.128'\n",
    "\n",
    "WEB_USER='admin'\n",
    "WEB_PASS='paloalto'\n",
    "\n",
    "SSH_USER='root'\n",
    "SSH_PASS='paloalto'"
   ]
  },
  {
   "cell_type": "code",
   "execution_count": 2,
   "metadata": {
    "collapsed": true
   },
   "outputs": [],
   "source": [
    "# Initialize log and server namespaces\n",
    "server = et.server.ServerConnection(HOSTNAME, WEB_USER, WEB_PASS)\n",
    "server.initialize()\n",
    "\n",
    "logs = et.logs.LogCollector(HOSTNAME, SSH_USER, SSH_PASS)\n",
    "logs.initialize()"
   ]
  },
  {
   "cell_type": "markdown",
   "metadata": {},
   "source": [
    "### Server Demo"
   ]
  },
  {
   "cell_type": "code",
   "execution_count": 3,
   "metadata": {},
   "outputs": [
    {
     "name": "stdout",
     "output_type": "stream",
     "text": [
      "3\n",
      "\n",
      "[{'id': 1, 'name': 'hibye', 'vendors': 'none', 'tag': '', 'progress': '<img src=/resources/images/progress/bar_0.gif>', 'created_at': '2017-08-05 02:12:25', 'updated_at': '2017-08-05 02:12:27', 'active': 1, 'appversion': '577-3263', 'panos': '7.1.0', 'purpose': 'Migration', 'progress_value': 0, 'admin': True}, {'id': 3, 'name': 'test', 'vendors': 'none', 'tag': 'fvhf', 'progress': '<img src=/resources/images/progress/bar_0.gif>', 'created_at': '2017-08-08 02:33:32', 'updated_at': '2017-08-08 02:33:32', 'active': 1, 'appversion': '0', 'panos': '', 'purpose': 'Migration', 'progress_value': 0, 'admin': True}, {'id': 20, 'name': 'TestQA', 'vendors': '{\"PALOALTO\":3}', 'tag': '', 'progress': '<img src=/resources/images/progress/bar_0.gif>', 'created_at': '2017-08-10 20:55:50', 'updated_at': '2017-08-12 02:14:23', 'active': 1, 'appversion': '0', 'panos': '', 'purpose': 'Migration', 'progress_value': 0, 'admin': True}]\n"
     ]
    }
   ],
   "source": [
    "# Display the many properties available in the server namespace\n",
    "# Note that these are not called like function but like \n",
    "# field attributes because they are properties\n",
    "# very useful for simple validation\n",
    "\n",
    "print(server.device_total) # Total devices as integer\n",
    "print()\n",
    "print(server.projects) \n",
    "# Projects are lists with each project being a dictionary of project attributes"
   ]
  },
  {
   "cell_type": "code",
   "execution_count": 5,
   "metadata": {
    "scrolled": true
   },
   "outputs": [
    {
     "name": "stdout",
     "output_type": "stream",
     "text": [
      "{'total': 3, 'devices': [{'id': 97, 'devicename': 'CiscoACI', 'hostname': '10.8.192.25', 'port': 443, 'type': 'pa3000', 'description': '', 'created_at': '2017-08-10 20:55:14', 'updated_at': '2017-08-15 18:10:27', 'active': 1, 'panos': '7.0.0', 'threats': 0, 'apps': 1, 'ispanorama': 0, 'config': 1, 'serial': '001801028983', 'serialHA': '', 'vsys': 'vsys1', 'appversion': '497-2688', 'appreleasedate': '0000-00-00 00:00:00', 'threatversion': '0', 'threatreleasedate': '0000-00-00 00:00:00', 'device': 'PA-FW', 'management': '', 'urldb': 'paloaltonetworks', 'connected': '', 'deactivated': '', 'wildfireversion': '', 'uptime': '', 'avversion': None, 'urlfilteringversion': None, 'logtype': 'csv', 'csv_path': '', 'licenses': [{'id': '349', 'feature': 'WildFire License', 'issued': '2016-11-07 00:00:00', 'expires': '2020-12-21 00:00:00', 'expired': 'no', 'device_id': None, 'serial': '001801028983', 'baselicensename': '', 'authcode': ''}, {'id': '350', 'feature': 'PAN-DB URL Filtering', 'issued': '2016-11-07 00:00:00', 'expires': '2020-12-21 00:00:00', 'expired': 'no', 'device_id': None, 'serial': '001801028983', 'baselicensename': '', 'authcode': ''}, {'id': '351', 'feature': 'Virtual Systems', 'issued': '2016-11-07 00:00:00', 'expires': '1970-01-01 00:00:00', 'expired': 'no', 'device_id': None, 'serial': '001801028983', 'baselicensename': '', 'authcode': 'F9190951'}, {'id': '352', 'feature': 'GlobalProtect Gateway', 'issued': '2016-11-07 00:00:00', 'expires': '2020-12-21 00:00:00', 'expired': 'no', 'device_id': None, 'serial': '001801028983', 'baselicensename': '', 'authcode': ''}, {'id': '353', 'feature': 'Threat Prevention', 'issued': '2016-11-07 00:00:00', 'expires': '2020-12-21 00:00:00', 'expired': 'no', 'device_id': None, 'serial': '001801028983', 'baselicensename': '', 'authcode': ''}, {'id': '354', 'feature': 'GlobalProtect Portal', 'issued': '2016-11-07 00:00:00', 'expires': '1970-01-01 00:00:00', 'expired': 'no', 'device_id': None, 'serial': '001801028983', 'baselicensename': '', 'authcode': ''}], 'warning': '[]', 'admin': True}, {'id': 32, 'devicename': 'fake', 'hostname': '7.7.7.7', 'port': 443, 'type': 'vm-series', 'description': '', 'created_at': '2017-08-05 02:41:55', 'updated_at': '2017-08-05 02:41:55', 'active': 1, 'panos': '', 'threats': 0, 'apps': 0, 'ispanorama': 0, 'config': 0, 'serial': '88', 'serialHA': '', 'vsys': 'vsys1', 'appversion': '0', 'appreleasedate': '0000-00-00 00:00:00', 'threatversion': '0', 'threatreleasedate': '0000-00-00 00:00:00', 'device': '', 'management': '', 'urldb': '', 'connected': '', 'deactivated': '', 'wildfireversion': '', 'uptime': '', 'avversion': None, 'urlfilteringversion': None, 'logtype': 'csv', 'csv_path': '', 'licenses': None, 'warning': '[]', 'admin': True}, {'id': 83, 'devicename': 'numbers', 'hostname': '5.5.5.5', 'port': 443, 'type': 'vm-series', 'description': '', 'created_at': '2017-08-09 22:27:55', 'updated_at': '2017-08-09 22:27:55', 'active': 1, 'panos': '', 'threats': 0, 'apps': 0, 'ispanorama': 0, 'config': 0, 'serial': '678', 'serialHA': '', 'vsys': 'vsys1', 'appversion': '0', 'appreleasedate': '0000-00-00 00:00:00', 'threatversion': '0', 'threatreleasedate': '0000-00-00 00:00:00', 'device': '', 'management': '', 'urldb': '', 'connected': '', 'deactivated': '', 'wildfireversion': '', 'uptime': '', 'avversion': None, 'urlfilteringversion': None, 'logtype': 'csv', 'csv_path': '', 'licenses': None, 'warning': '[]', 'admin': True}]}\n"
     ]
    }
   ],
   "source": [
    "# Display of get_list\n",
    "# Note all that is needed is the path to the file and the additional param\n",
    "# that is needed apart from the default params for get_list: _dc, page, start, limit\n",
    "print(server.get_list('bin/authentication/devices/devices', scope='direct'))"
   ]
  },
  {
   "cell_type": "code",
   "execution_count": 6,
   "metadata": {
    "scrolled": false
   },
   "outputs": [
    {
     "name": "stdout",
     "output_type": "stream",
     "text": [
      "{'total': 3, 'devices': [{'id': 97, 'devicename': 'CiscoACI', 'hostname': '10.8.192.25', 'port': 443, 'type': 'pa3000', 'description': '', 'created_at': '2017-08-10 20:55:14', 'updated_at': '2017-08-15 18:10:27', 'active': 1, 'panos': '7.0.0', 'threats': 0, 'apps': 1, 'ispanorama': 0, 'config': 1, 'serial': '001801028983', 'serialHA': '', 'vsys': 'vsys1', 'appversion': '497-2688', 'appreleasedate': '0000-00-00 00:00:00', 'threatversion': '0', 'threatreleasedate': '0000-00-00 00:00:00', 'device': 'PA-FW', 'management': '', 'urldb': 'paloaltonetworks', 'connected': '', 'deactivated': '', 'wildfireversion': '', 'uptime': '', 'avversion': None, 'urlfilteringversion': None, 'logtype': 'csv', 'csv_path': '', 'licenses': [{'id': '349', 'feature': 'WildFire License', 'issued': '2016-11-07 00:00:00', 'expires': '2020-12-21 00:00:00', 'expired': 'no', 'device_id': None, 'serial': '001801028983', 'baselicensename': '', 'authcode': ''}, {'id': '350', 'feature': 'PAN-DB URL Filtering', 'issued': '2016-11-07 00:00:00', 'expires': '2020-12-21 00:00:00', 'expired': 'no', 'device_id': None, 'serial': '001801028983', 'baselicensename': '', 'authcode': ''}, {'id': '351', 'feature': 'Virtual Systems', 'issued': '2016-11-07 00:00:00', 'expires': '1970-01-01 00:00:00', 'expired': 'no', 'device_id': None, 'serial': '001801028983', 'baselicensename': '', 'authcode': 'F9190951'}, {'id': '352', 'feature': 'GlobalProtect Gateway', 'issued': '2016-11-07 00:00:00', 'expires': '2020-12-21 00:00:00', 'expired': 'no', 'device_id': None, 'serial': '001801028983', 'baselicensename': '', 'authcode': ''}, {'id': '353', 'feature': 'Threat Prevention', 'issued': '2016-11-07 00:00:00', 'expires': '2020-12-21 00:00:00', 'expired': 'no', 'device_id': None, 'serial': '001801028983', 'baselicensename': '', 'authcode': ''}, {'id': '354', 'feature': 'GlobalProtect Portal', 'issued': '2016-11-07 00:00:00', 'expires': '1970-01-01 00:00:00', 'expired': 'no', 'device_id': None, 'serial': '001801028983', 'baselicensename': '', 'authcode': ''}], 'warning': '[]', 'admin': True}, {'id': 32, 'devicename': 'fake', 'hostname': '7.7.7.7', 'port': 443, 'type': 'vm-series', 'description': '', 'created_at': '2017-08-05 02:41:55', 'updated_at': '2017-08-05 02:41:55', 'active': 1, 'panos': '', 'threats': 0, 'apps': 0, 'ispanorama': 0, 'config': 0, 'serial': '88', 'serialHA': '', 'vsys': 'vsys1', 'appversion': '0', 'appreleasedate': '0000-00-00 00:00:00', 'threatversion': '0', 'threatreleasedate': '0000-00-00 00:00:00', 'device': '', 'management': '', 'urldb': '', 'connected': '', 'deactivated': '', 'wildfireversion': '', 'uptime': '', 'avversion': None, 'urlfilteringversion': None, 'logtype': 'csv', 'csv_path': '', 'licenses': None, 'warning': '[]', 'admin': True}, {'id': 83, 'devicename': 'numbers', 'hostname': '5.5.5.5', 'port': 443, 'type': 'vm-series', 'description': '', 'created_at': '2017-08-09 22:27:55', 'updated_at': '2017-08-09 22:27:55', 'active': 1, 'panos': '', 'threats': 0, 'apps': 0, 'ispanorama': 0, 'config': 0, 'serial': '678', 'serialHA': '', 'vsys': 'vsys1', 'appversion': '0', 'appreleasedate': '0000-00-00 00:00:00', 'threatversion': '0', 'threatreleasedate': '0000-00-00 00:00:00', 'device': '', 'management': '', 'urldb': '', 'connected': '', 'deactivated': '', 'wildfireversion': '', 'uptime': '', 'avversion': None, 'urlfilteringversion': None, 'logtype': 'csv', 'csv_path': '', 'licenses': None, 'warning': '[]', 'admin': True}]}\n"
     ]
    }
   ],
   "source": [
    "# The following convenience method does the equivalent of the above cell\n",
    "print(server.get_devices())"
   ]
  },
  {
   "cell_type": "code",
   "execution_count": 7,
   "metadata": {
    "scrolled": true
   },
   "outputs": [
    {
     "data": {
      "text/plain": [
       "{'snippets': [{'data': '<entry name=\"icmp_source_quench\">\\n<category>networking</category>\\n<subcategory>ip-protocol</subcategory>\\n<technology>network-protocol</technology>\\n<risk>1</risk>\\n<consume-big-bandwidth>no</consume-big-bandwidth>\\n<able-to-transfer-file>no</able-to-transfer-file>\\n<used-by-malware>no</used-by-malware>\\n<evasive-behavior>no</evasive-behavior>\\n<has-known-vulnerability>no</has-known-vulnerability>\\n<pervasive-use>no</pervasive-use>\\n<prone-to-misuse>no</prone-to-misuse>\\n<tunnel-applications>no</tunnel-applications>\\n<tunnel-other-application>no</tunnel-other-application>\\n<data-ident>no</data-ident>\\n<virus-ident>no</virus-ident>\\n<file-type-ident>no</file-type-ident>\\n<spyware-ident>no</spyware-ident>\\n<default>\\n<ident-by-icmp-type>4</ident-by-icmp-type>\\n</default>\\n</entry>',\n",
       "   'description': 'Custom appID to control icmp_source_quench',\n",
       "   'id': '1',\n",
       "   'name': 'icmp_source_quench',\n",
       "   'panos': '4.0',\n",
       "   'type': 'appid'},\n",
       "  {'data': '<entry name=\"icmp_any\">\\n<category>networking</category>\\n<subcategory>ip-protocol</subcategory>\\n<technology>network-protocol</technology>\\n<risk>1</risk>\\n<consume-big-bandwidth>no</consume-big-bandwidth>\\n<able-to-transfer-file>no</able-to-transfer-file>\\n<used-by-malware>no</used-by-malware>\\n<evasive-behavior>no</evasive-behavior>\\n<has-known-vulnerability>no</has-known-vulnerability>\\n<pervasive-use>no</pervasive-use>\\n<prone-to-misuse>no</prone-to-misuse>\\n<tunnel-applications>no</tunnel-applications>\\n<tunnel-other-application>no</tunnel-other-application>\\n<data-ident>no</data-ident>\\n<virus-ident>no</virus-ident>\\n<file-type-ident>no</file-type-ident>\\n<spyware-ident>no</spyware-ident>\\n<default>\\n<ident-by-ip-protocol>1</ident-by-ip-protocol>\\n</default>\\n</entry>',\n",
       "   'description': 'Custom appID to control icmp_any',\n",
       "   'id': '2',\n",
       "   'name': 'icmp_any',\n",
       "   'panos': '4.0',\n",
       "   'type': 'appid'},\n",
       "  {'data': '<entry name=\"icmp_timestamp\">\\n<category>networking</category>\\n<subcategory>ip-protocol</subcategory>\\n<technology>network-protocol</technology>\\n<risk>1</risk>\\n<consume-big-bandwidth>no</consume-big-bandwidth>\\n<able-to-transfer-file>no</able-to-transfer-file>\\n<used-by-malware>no</used-by-malware>\\n<evasive-behavior>no</evasive-behavior>\\n<has-known-vulnerability>no</has-known-vulnerability>\\n<pervasive-use>no</pervasive-use>\\n<prone-to-misuse>no</prone-to-misuse>\\n<tunnel-applications>no</tunnel-applications>\\n<tunnel-other-application>no</tunnel-other-application>\\n<data-ident>no</data-ident>\\n<virus-ident>no</virus-ident>\\n<file-type-ident>no</file-type-ident>\\n<spyware-ident>no</spyware-ident>\\n<default>\\n<ident-by-icmp-type>13</ident-by-icmp-type>\\n</default>\\n</entry>',\n",
       "   'description': 'Custom appID to control icmp_timestamp',\n",
       "   'id': '3',\n",
       "   'name': 'icmp_timestamp',\n",
       "   'panos': '4.0',\n",
       "   'type': 'appid'},\n",
       "  {'data': '<entry name=\"icmp_info\">\\n<category>networking</category>\\n<subcategory>ip-protocol</subcategory>\\n<technology>network-protocol</technology>\\n<risk>1</risk>\\n<consume-big-bandwidth>no</consume-big-bandwidth>\\n<able-to-transfer-file>no</able-to-transfer-file>\\n<used-by-malware>no</used-by-malware>\\n<evasive-behavior>no</evasive-behavior>\\n<has-known-vulnerability>no</has-known-vulnerability>\\n<pervasive-use>no</pervasive-use>\\n<prone-to-misuse>no</prone-to-misuse>\\n<tunnel-applications>no</tunnel-applications>\\n<tunnel-other-application>no</tunnel-other-application>\\n<data-ident>no</data-ident>\\n<virus-ident>no</virus-ident>\\n<file-type-ident>no</file-type-ident>\\n<spyware-ident>no</spyware-ident>\\n<default>\\n<ident-by-icmp-type>15</ident-by-icmp-type>\\n</default>\\n</entry>',\n",
       "   'description': 'Custom appID to control icmp_info',\n",
       "   'id': '4',\n",
       "   'name': 'icmp_info',\n",
       "   'panos': '4.0',\n",
       "   'type': 'appid'},\n",
       "  {'data': '<entry name=\"icmp_address_mask\">\\n<category>networking</category>\\n<subcategory>ip-protocol</subcategory>\\n<technology>network-protocol</technology>\\n<risk>1</risk>\\n<consume-big-bandwidth>no</consume-big-bandwidth>\\n<able-to-transfer-file>no</able-to-transfer-file>\\n<used-by-malware>no</used-by-malware>\\n<evasive-behavior>no</evasive-behavior>\\n<has-known-vulnerability>no</has-known-vulnerability>\\n<pervasive-use>no</pervasive-use>\\n<prone-to-misuse>no</prone-to-misuse>\\n<tunnel-applications>no</tunnel-applications>\\n<tunnel-other-application>no</tunnel-other-application>\\n<data-ident>no</data-ident>\\n<virus-ident>no</virus-ident>\\n<file-type-ident>no</file-type-ident>\\n<spyware-ident>no</spyware-ident>\\n<default>\\n<ident-by-icmp-type>17</ident-by-icmp-type>\\n</default>\\n</entry>',\n",
       "   'description': 'Custom appID to control icmp_address_mask',\n",
       "   'id': '5',\n",
       "   'name': 'icmp_address_mask',\n",
       "   'panos': '4.0',\n",
       "   'type': 'appid'},\n",
       "  {'data': '<entry name=\"icmp_redirect\">\\n<category>networking</category>\\n<subcategory>ip-protocol</subcategory>\\n<technology>network-protocol</technology>\\n<risk>1</risk>\\n<consume-big-bandwidth>no</consume-big-bandwidth>\\n<able-to-transfer-file>no</able-to-transfer-file>\\n<used-by-malware>no</used-by-malware>\\n<evasive-behavior>no</evasive-behavior>\\n<has-known-vulnerability>no</has-known-vulnerability>\\n<pervasive-use>no</pervasive-use>\\n<prone-to-misuse>no</prone-to-misuse>\\n<tunnel-applications>no</tunnel-applications>\\n<tunnel-other-application>no</tunnel-other-application>\\n<data-ident>no</data-ident>\\n<virus-ident>no</virus-ident>\\n<file-type-ident>no</file-type-ident>\\n<spyware-ident>no</spyware-ident>\\n<default>\\n<ident-by-icmp-type>5</ident-by-icmp-type>\\n</default>\\n</entry>',\n",
       "   'description': 'Custom appID to control icmp_redirect',\n",
       "   'id': '6',\n",
       "   'name': 'icmp_redirect',\n",
       "   'panos': '4.0',\n",
       "   'type': 'appid'},\n",
       "  {'data': '<entry name=\"icmp_destination_unreachable\">\\n<category>networking</category>\\n<subcategory>ip-protocol</subcategory>\\n<technology>network-protocol</technology>\\n<risk>1</risk>\\n<consume-big-bandwidth>no</consume-big-bandwidth>\\n<able-to-transfer-file>no</able-to-transfer-file>\\n<used-by-malware>no</used-by-malware>\\n<evasive-behavior>no</evasive-behavior>\\n<has-known-vulnerability>no</has-known-vulnerability>\\n<pervasive-use>no</pervasive-use>\\n<prone-to-misuse>no</prone-to-misuse>\\n<tunnel-applications>no</tunnel-applications>\\n<tunnel-other-application>no</tunnel-other-application>\\n<data-ident>no</data-ident>\\n<virus-ident>no</virus-ident>\\n<file-type-ident>no</file-type-ident>\\n<spyware-ident>no</spyware-ident>\\n<default>\\n<ident-by-icmp-type>3</ident-by-icmp-type>\\n</default>\\n</entry>',\n",
       "   'description': 'Custom appID to control icmp_destination_unreachable',\n",
       "   'id': '7',\n",
       "   'name': 'icmp_destination_unreachable',\n",
       "   'panos': '4.0',\n",
       "   'type': 'appid'},\n",
       "  {'data': '<entry name=\"icmp_time_exceeded\">\\n<category>networking</category>\\n<subcategory>ip-protocol</subcategory>\\n<technology>network-protocol</technology>\\n<risk>1</risk>\\n<consume-big-bandwidth>no</consume-big-bandwidth>\\n<able-to-transfer-file>no</able-to-transfer-file>\\n<used-by-malware>no</used-by-malware>\\n<evasive-behavior>no</evasive-behavior>\\n<has-known-vulnerability>no</has-known-vulnerability>\\n<pervasive-use>no</pervasive-use>\\n<prone-to-misuse>no</prone-to-misuse>\\n<tunnel-applications>no</tunnel-applications>\\n<tunnel-other-application>no</tunnel-other-application>\\n<data-ident>no</data-ident>\\n<virus-ident>no</virus-ident>\\n<file-type-ident>no</file-type-ident>\\n<spyware-ident>no</spyware-ident>\\n<default>\\n<ident-by-icmp-type>11</ident-by-icmp-type>\\n</default>\\n</entry>',\n",
       "   'description': 'Custom appID to control icmp_time_exceeded',\n",
       "   'id': '8',\n",
       "   'name': 'icmp_time_exceeded',\n",
       "   'panos': '4.0',\n",
       "   'type': 'appid'},\n",
       "  {'data': '<entry name=\"icmp_echo_reply\">\\n<category>networking</category>\\n<subcategory>ip-protocol</subcategory>\\n<technology>network-protocol</technology>\\n<risk>1</risk>\\n<consume-big-bandwidth>no</consume-big-bandwidth>\\n<able-to-transfer-file>no</able-to-transfer-file>\\n<used-by-malware>no</used-by-malware>\\n<evasive-behavior>no</evasive-behavior>\\n<has-known-vulnerability>no</has-known-vulnerability>\\n<pervasive-use>no</pervasive-use>\\n<prone-to-misuse>no</prone-to-misuse>\\n<tunnel-applications>no</tunnel-applications>\\n<tunnel-other-application>no</tunnel-other-application>\\n<data-ident>no</data-ident>\\n<virus-ident>no</virus-ident>\\n<file-type-ident>no</file-type-ident>\\n<spyware-ident>no</spyware-ident>\\n<default>\\n<ident-by-icmp-type>0</ident-by-icmp-type>\\n</default>\\n</entry>',\n",
       "   'description': 'Custom appID to control icmp_echo_reply',\n",
       "   'id': '9',\n",
       "   'name': 'icmp_echo_reply',\n",
       "   'panos': '4.0',\n",
       "   'type': 'appid'},\n",
       "  {'data': '<entry name=\"icmp_echo\">\\n<category>networking</category>\\n<subcategory>ip-protocol</subcategory>\\n<technology>network-protocol</technology>\\n<risk>1</risk>\\n<consume-big-bandwidth>no</consume-big-bandwidth>\\n<able-to-transfer-file>no</able-to-transfer-file>\\n<used-by-malware>no</used-by-malware>\\n<evasive-behavior>no</evasive-behavior>\\n<has-known-vulnerability>no</has-known-vulnerability>\\n<pervasive-use>no</pervasive-use>\\n<prone-to-misuse>no</prone-to-misuse>\\n<tunnel-applications>no</tunnel-applications>\\n<tunnel-other-application>no</tunnel-other-application>\\n<data-ident>no</data-ident>\\n<virus-ident>no</virus-ident>\\n<file-type-ident>no</file-type-ident>\\n<spyware-ident>no</spyware-ident>\\n<default>\\n<ident-by-icmp-type>8</ident-by-icmp-type>\\n</default>\\n</entry>',\n",
       "   'description': 'Custom appID to control icmp_echo',\n",
       "   'id': '10',\n",
       "   'name': 'icmp_echo',\n",
       "   'panos': '4.0',\n",
       "   'type': 'appid'},\n",
       "  {'data': '<entry name=\"AV_Profile\"><decoder><entry name=\"ftp\"><action>default</action><wildfire-action>default</wildfire-action></entry><entry name=\"http\"><action>default</action><wildfire-action>default</wildfire-action></entry><entry name=\"imap\"><action>default</action><wildfire-action>default</wildfire-action></entry><entry name=\"pop3\"><action>default</action><wildfire-action>default</wildfire-action></entry><entry name=\"smb\"><action>default</action><wildfire-action>default</wildfire-action></entry><entry name=\"smtp\"><action>default</action><wildfire-action>default</wildfire-action></entry></decoder><description>Profile AV</description><packet-capture>yes</packet-capture></entry>',\n",
       "   'description': 'Av template',\n",
       "   'id': '11',\n",
       "   'name': 'Profile_AV_Default',\n",
       "   'panos': '5.0',\n",
       "   'type': 'av_profile'},\n",
       "  {'data': '<entry name=\"Logs2Panorama\">\\n<traffic>\\n<any>\\n<send-to-panorama>yes</send-to-panorama>\\n</any>\\n</traffic>\\n<alarm>\\n<critical>\\n<send-to-panorama>yes</send-to-panorama>\\n</critical>\\n<high>\\n<send-to-panorama>yes</send-to-panorama>\\n</high>\\n<medium>\\n<send-to-panorama>yes</send-to-panorama>\\n</medium>\\n<low>\\n<send-to-panorama>yes</send-to-panorama>\\n</low>\\n<informational>\\n<send-to-panorama>yes</send-to-panorama>\\n</informational>\\n</alarm>\\n</entry>',\n",
       "   'description': 'Log Forwarding Profile',\n",
       "   'id': '16',\n",
       "   'name': 'Logs2Panorama',\n",
       "   'panos': '5.0',\n",
       "   'type': 'log_profile'}],\n",
       " 'total': '12'}"
      ]
     },
     "execution_count": 7,
     "metadata": {},
     "output_type": "execute_result"
    }
   ],
   "source": [
    "snip_data = {\n",
    "    'action': 'import',\n",
    "    'project': 'hibye',\n",
    "    'type': 'snippets',\n",
    "    'vsys': 'vsys1',\n",
    "    'ids': '1',\n",
    "    'source': 1\n",
    "}\n",
    "server.post('bin/Snippets', snip_data)"
   ]
  },
  {
   "cell_type": "code",
   "execution_count": 8,
   "metadata": {},
   "outputs": [
    {
     "data": {
      "text/plain": [
       "{'success': True}"
      ]
     },
     "execution_count": 8,
     "metadata": {},
     "output_type": "execute_result"
    }
   ],
   "source": [
    "server.add_snippet('hibye', 'icmp_any', 'vsys1')"
   ]
  },
  {
   "cell_type": "markdown",
   "metadata": {},
   "source": [
    "### GUI Tests"
   ]
  },
  {
   "cell_type": "markdown",
   "metadata": {},
   "source": [
    "Steps to GUI Testing:\n",
    "\n",
    "1) Navigate to element\n",
    "\n",
    "2) Action on element\n",
    "\n",
    "3) Validate Response (Server/GUI)"
   ]
  },
  {
   "cell_type": "code",
   "execution_count": 16,
   "metadata": {
    "collapsed": true
   },
   "outputs": [],
   "source": [
    "gui = et.gui.UINavigator(HOSTNAME, WEB_USER, WEB_PASS)\n",
    "gui.initialize()"
   ]
  },
  {
   "cell_type": "code",
   "execution_count": 17,
   "metadata": {
    "collapsed": true
   },
   "outputs": [],
   "source": [
    "gui.navigate.tab('DEVICES') # navigation\n",
    "gui.device.add_device('ipython', 'vm-series', '7.7.7.7', '83') # action\n",
    "assert '83' in gui.device.device_dictionary() # validation"
   ]
  },
  {
   "cell_type": "code",
   "execution_count": 18,
   "metadata": {},
   "outputs": [
    {
     "ename": "TimeoutException",
     "evalue": "Message: \n",
     "output_type": "error",
     "traceback": [
      "\u001b[0;31m---------------------------------------------------------------------------\u001b[0m",
      "\u001b[0;31mTimeoutException\u001b[0m                          Traceback (most recent call last)",
      "\u001b[0;32m<ipython-input-18-0d84eb92326b>\u001b[0m in \u001b[0;36m<module>\u001b[0;34m()\u001b[0m\n\u001b[0;32m----> 1\u001b[0;31m \u001b[0mtab_bar\u001b[0m \u001b[0;34m=\u001b[0m \u001b[0mgui\u001b[0m\u001b[0;34m.\u001b[0m\u001b[0mnavigate\u001b[0m\u001b[0;34m.\u001b[0m\u001b[0mbridge\u001b[0m\u001b[0;34m(\u001b[0m\u001b[0;34m'MainPanelToolbar'\u001b[0m\u001b[0;34m)\u001b[0m \u001b[0;31m# Use bridge to narrow search\u001b[0m\u001b[0;34m\u001b[0m\u001b[0m\n\u001b[0m\u001b[1;32m      2\u001b[0m \u001b[0;34m\u001b[0m\u001b[0m\n\u001b[1;32m      3\u001b[0m \u001b[0;31m# Use _element_dictionary to associate inner text to element\u001b[0m\u001b[0;34m\u001b[0m\u001b[0;34m\u001b[0m\u001b[0m\n\u001b[1;32m      4\u001b[0m \u001b[0mtab_dict\u001b[0m \u001b[0;34m=\u001b[0m \u001b[0mgui\u001b[0m\u001b[0;34m.\u001b[0m\u001b[0mnavigate\u001b[0m\u001b[0;34m.\u001b[0m\u001b[0melement_dictionary\u001b[0m\u001b[0;34m(\u001b[0m\u001b[0;34m'x-tab-inner'\u001b[0m\u001b[0;34m,\u001b[0m \u001b[0mdriver\u001b[0m\u001b[0;34m=\u001b[0m\u001b[0mtab_bar\u001b[0m\u001b[0;34m)\u001b[0m\u001b[0;34m\u001b[0m\u001b[0m\n\u001b[1;32m      5\u001b[0m \u001b[0mprint\u001b[0m\u001b[0;34m(\u001b[0m\u001b[0mtab_dict\u001b[0m\u001b[0;34m)\u001b[0m\u001b[0;34m\u001b[0m\u001b[0m\n",
      "\u001b[0;32m~/expedition-test/et/gui/navigate/__init__.py\u001b[0m in \u001b[0;36mbridge\u001b[0;34m(self, uid, uid_type, driver)\u001b[0m\n\u001b[1;32m     23\u001b[0m         \u001b[0;32mif\u001b[0m \u001b[0mdriver\u001b[0m \u001b[0;32mis\u001b[0m \u001b[0;32mNone\u001b[0m\u001b[0;34m:\u001b[0m\u001b[0;34m\u001b[0m\u001b[0m\n\u001b[1;32m     24\u001b[0m             \u001b[0mdriver\u001b[0m \u001b[0;34m=\u001b[0m \u001b[0mself\u001b[0m\u001b[0;34m.\u001b[0m\u001b[0mparent\u001b[0m\u001b[0;34m.\u001b[0m\u001b[0mdriver\u001b[0m\u001b[0;34m\u001b[0m\u001b[0m\n\u001b[0;32m---> 25\u001b[0;31m         \u001b[0;32mreturn\u001b[0m \u001b[0mWebDriverWait\u001b[0m\u001b[0;34m(\u001b[0m\u001b[0mdriver\u001b[0m\u001b[0;34m,\u001b[0m \u001b[0;36m10\u001b[0m\u001b[0;34m)\u001b[0m\u001b[0;34m.\u001b[0m\u001b[0muntil\u001b[0m\u001b[0;34m(\u001b[0m\u001b[0mEC\u001b[0m\u001b[0;34m.\u001b[0m\u001b[0mpresence_of_element_located\u001b[0m\u001b[0;34m(\u001b[0m\u001b[0;34m(\u001b[0m\u001b[0mself\u001b[0m\u001b[0;34m.\u001b[0m\u001b[0mparent\u001b[0m\u001b[0;34m.\u001b[0m\u001b[0mattributes\u001b[0m\u001b[0;34m[\u001b[0m\u001b[0muid_type\u001b[0m\u001b[0;34m]\u001b[0m\u001b[0;34m,\u001b[0m \u001b[0muid\u001b[0m\u001b[0;34m)\u001b[0m\u001b[0;34m)\u001b[0m\u001b[0;34m)\u001b[0m\u001b[0;34m\u001b[0m\u001b[0m\n\u001b[0m\u001b[1;32m     26\u001b[0m \u001b[0;34m\u001b[0m\u001b[0m\n\u001b[1;32m     27\u001b[0m     \u001b[0;32mdef\u001b[0m \u001b[0mtab\u001b[0m\u001b[0;34m(\u001b[0m\u001b[0mself\u001b[0m\u001b[0;34m,\u001b[0m \u001b[0mname\u001b[0m\u001b[0;34m,\u001b[0m \u001b[0mdriver\u001b[0m\u001b[0;34m=\u001b[0m\u001b[0;32mNone\u001b[0m\u001b[0;34m)\u001b[0m\u001b[0;34m:\u001b[0m\u001b[0;34m\u001b[0m\u001b[0m\n",
      "\u001b[0;32m~/.virtualenvs/expedition/lib/python3.6/site-packages/selenium/webdriver/support/wait.py\u001b[0m in \u001b[0;36muntil\u001b[0;34m(self, method, message)\u001b[0m\n\u001b[1;32m     78\u001b[0m             \u001b[0;32mif\u001b[0m \u001b[0mtime\u001b[0m\u001b[0;34m.\u001b[0m\u001b[0mtime\u001b[0m\u001b[0;34m(\u001b[0m\u001b[0;34m)\u001b[0m \u001b[0;34m>\u001b[0m \u001b[0mend_time\u001b[0m\u001b[0;34m:\u001b[0m\u001b[0;34m\u001b[0m\u001b[0m\n\u001b[1;32m     79\u001b[0m                 \u001b[0;32mbreak\u001b[0m\u001b[0;34m\u001b[0m\u001b[0m\n\u001b[0;32m---> 80\u001b[0;31m         \u001b[0;32mraise\u001b[0m \u001b[0mTimeoutException\u001b[0m\u001b[0;34m(\u001b[0m\u001b[0mmessage\u001b[0m\u001b[0;34m,\u001b[0m \u001b[0mscreen\u001b[0m\u001b[0;34m,\u001b[0m \u001b[0mstacktrace\u001b[0m\u001b[0;34m)\u001b[0m\u001b[0;34m\u001b[0m\u001b[0m\n\u001b[0m\u001b[1;32m     81\u001b[0m \u001b[0;34m\u001b[0m\u001b[0m\n\u001b[1;32m     82\u001b[0m     \u001b[0;32mdef\u001b[0m \u001b[0muntil_not\u001b[0m\u001b[0;34m(\u001b[0m\u001b[0mself\u001b[0m\u001b[0;34m,\u001b[0m \u001b[0mmethod\u001b[0m\u001b[0;34m,\u001b[0m \u001b[0mmessage\u001b[0m\u001b[0;34m=\u001b[0m\u001b[0;34m''\u001b[0m\u001b[0;34m)\u001b[0m\u001b[0;34m:\u001b[0m\u001b[0;34m\u001b[0m\u001b[0m\n",
      "\u001b[0;31mTimeoutException\u001b[0m: Message: \n"
     ]
    }
   ],
   "source": [
    "tab_bar = gui.navigate.bridge('MainPanelToolbar') # Use bridge to narrow search\n",
    "\n",
    "# Use _element_dictionary to associate inner text to element\n",
    "tab_dict = gui.navigate.element_dictionary('x-tab-inner', driver=tab_bar)\n",
    "print(tab_dict)\n",
    "\n",
    "tab_dict['DEVICES'].click() \n",
    "# Use of selenium click method as it is called on a selenium element\n",
    "proj_table = gui.navigate.bridge('DevicesGrid')\n",
    "\n",
    "# ET's click allows uniform interface for clicking an \n",
    "# element based on any of its attributes\n",
    "add_btn = gui.click('x-tool-plus', uid_type='CLASS_NAME', driver=proj_table)\n",
    "add_wndw = gui.navigate.bridge('DeviceWindow')\n",
    "fieldset = gui.navigate.bridge('fieldset', uid_type='TAG_NAME', driver=add_wndw)\n",
    "\n",
    "# fill_fieldset allows user to pass in fieldset element\n",
    "# and a dictionary associating text description of input with input value\n",
    "# Form filling logic is done internally\n",
    "inputs = {'Device Name:': 'hard_way', 'Hostname/IP:': '3.3.3.3', \n",
    "          'Model:': 'vm-series', 'Serial #:': '3'}\n",
    "gui.fill_fieldset(inputs, driver=fieldset)\n",
    "gui.click('device_update_button', driver=add_wndw)"
   ]
  },
  {
   "cell_type": "code",
   "execution_count": 12,
   "metadata": {
    "collapsed": true
   },
   "outputs": [],
   "source": [
    "gui.navigate.tab('PROJECTS')\n",
    "gui.project.add_project('iloveet')\n",
    "assert 'iloveet' in gui.project.project_dictionary()"
   ]
  },
  {
   "cell_type": "code",
   "execution_count": 13,
   "metadata": {},
   "outputs": [
    {
     "name": "stdout",
     "output_type": "stream",
     "text": [
      "OrderedDict([('hibye', <selenium.webdriver.remote.webelement.WebElement (session=\"8aaac67ac0da6bbe093b0dc48027e98e\", element=\"0.8267126591328717-66\")>), ('test', <selenium.webdriver.remote.webelement.WebElement (session=\"8aaac67ac0da6bbe093b0dc48027e98e\", element=\"0.8267126591328717-68\")>), ('TestQA', <selenium.webdriver.remote.webelement.WebElement (session=\"8aaac67ac0da6bbe093b0dc48027e98e\", element=\"0.8267126591328717-70\")>), ('iloveet', <selenium.webdriver.remote.webelement.WebElement (session=\"8aaac67ac0da6bbe093b0dc48027e98e\", element=\"0.8267126591328717-72\")>)])\n"
     ]
    }
   ],
   "source": [
    "gui.refresh()\n",
    "gui.navigate.tab('PROJECTS')\n",
    "proj_table = gui.navigate.bridge('ProjectsGridPanel')\n",
    "\n",
    "# row_dictionary is the element_dictionary equivalent for tables\n",
    "# Associates column value in column specified in key_type with row element\n",
    "proj_dict = gui.navigate.row_dictionary(proj_table) \n",
    "print(proj_dict)\n",
    "\n",
    "gui.double_click(proj_dict['iloveet']) # example of double-click use"
   ]
  },
  {
   "cell_type": "code",
   "execution_count": 14,
   "metadata": {
    "collapsed": true
   },
   "outputs": [],
   "source": [
    "# Restore state\n",
    "server.remove_device('83')\n",
    "server.remove_device('3')\n",
    "for dev in server.devices:\n",
    "    if dev['devicename'] == 'ipython' or dev['serial'] == 'hard_way':\n",
    "        assert False\n",
    "server.remove_project('iloveet')\n",
    "for proj in server.projects:\n",
    "    if proj['name'] == 'iloveet':\n",
    "        assert False\n",
    "gui.finalize()"
   ]
  },
  {
   "cell_type": "markdown",
   "metadata": {},
   "source": [
    "### Log Tests"
   ]
  },
  {
   "cell_type": "markdown",
   "metadata": {},
   "source": [
    "The log namespace allows the script to access the Expedition logs. get_errors method returns a list where each element is a line in errors.log\n",
    "\n",
    "Accessible by Script:\n",
    "\n",
    "1) All of the logs in errors.log\n",
    "\n",
    "2) Logs recorded since start of program\n",
    "\n",
    "3) Logs recorded over a certain amount of time"
   ]
  },
  {
   "cell_type": "code",
   "execution_count": 15,
   "metadata": {},
   "outputs": [
    {
     "name": "stdout",
     "output_type": "stream",
     "text": [
      "[b\"[Tue Aug 15 23:22:06.624295 2017] [:error] [pid 48313] [client 172.16.126.1:53616] script '/var/www/html/bin/projects/benchmarks/statistics.php' not found or unable to stat, referer: https://172.16.126.128/\", b\"[Tue Aug 15 23:22:24.891400 2017] [:error] [pid 44404] [client 172.16.126.1:54131] script '/var/www/html/bin/projects/benchmarks/statistics.php' not found or unable to stat, referer: https://172.16.126.128/\", b'tar (child): /home/userSpace/DeviceBackups/83_1502832147.tar.gz: Cannot open: No such file or directory', b'tar (child): Error is not recoverable: exiting now', b'tar: 83: Cannot stat: No such file or directory', b'tar: /home/userSpace/DeviceBackups/83_1502832147.tar.gz: Cannot write: Broken pipe', b'tar: Error is not recoverable: exiting now', b'tar: 3: Cannot stat: No such file or directory', b'tar (child): /home/userSpace/DeviceBackups/3_1502832147.tar.gz: Cannot open: No such file or directory', b'tar (child): Error is not recoverable: exiting now', b'tar: Child returned status 2', b'tar: Error is not recoverable: exiting now', b'no crontab for www-data', b'\"-\":0: bad minute', b\"errors in crontab file, can't install.\"]\n",
      "\n",
      "[b'tar (child): /home/userSpace/DeviceBackups/99_1502832149.tar.gz: Cannot open: No such file or directory', b'tar (child): Error is not recoverable: exiting now', b'tar: 99: Cannot stat: No such file or directory', b'tar: /home/userSpace/DeviceBackups/99_1502832149.tar.gz: Cannot write: Broken pipe', b'tar: Error is not recoverable: exiting now']\n"
     ]
    }
   ],
   "source": [
    "# Read all logs from beginning of Jupyter Notebook execution\n",
    "print(logs.get_new_errors())\n",
    "print()\n",
    "\n",
    "# Create fresh log collector\n",
    "new_log = logs.start_log()\n",
    "server.add_device('logs', 'vm-series', '3.4.5.6', '99')\n",
    "server.remove_device('99')\n",
    "# Check if there are new errors logged from adding and removing device\n",
    "print(new_log.get_new_errors())"
   ]
  },
  {
   "cell_type": "code",
   "execution_count": null,
   "metadata": {
    "collapsed": true
   },
   "outputs": [],
   "source": []
  }
 ],
 "metadata": {
  "kernelspec": {
   "display_name": "expedition",
   "language": "python",
   "name": "expedition"
  },
  "language_info": {
   "codemirror_mode": {
    "name": "ipython",
    "version": 3
   },
   "file_extension": ".py",
   "mimetype": "text/x-python",
   "name": "python",
   "nbconvert_exporter": "python",
   "pygments_lexer": "ipython3",
   "version": "3.6.2"
  }
 },
 "nbformat": 4,
 "nbformat_minor": 2
}
