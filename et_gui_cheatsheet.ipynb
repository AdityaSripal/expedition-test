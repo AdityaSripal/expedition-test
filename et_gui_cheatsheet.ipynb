{
 "cells": [
  {
   "cell_type": "markdown",
   "metadata": {},
   "source": [
    "# GUI Testing Cheatsheet\n",
    "\n",
    "#### Common pattern for GUI functions\n",
    "\n",
    "gui_function(uid, other_args, uid_type='ID', driver=None)\n",
    "\n",
    "uid is the unique identifier that will be used to find the element\n",
    "\n",
    "uid_type is the type of HTML attribute the uid belongs to. Currently supported element attribute types:\n",
    "\n",
    "ID, CLASS_NAME, TAG_NAME, NAME, XPATH\n",
    "\n",
    "The driver argument is provided to narrow the search so that non-unique identifiers can still uniquely identify an element in a narrowed scope.\n",
    "\n",
    "#### navigate.bridge(uid, uid_type='ID', driver=None)\n",
    "\n",
    "Finds a unique identifier and returns an element for further use in the script\n",
    "\n",
    "The bridge function is one of the most important functions in et.gui namespace. It is used to narrow the scope and the element that is returned can be used in the driver argument of another function.\n",
    "\n",
    "#### click vs click:\n",
    "There are two click functions that are available to use: the Selenium click function and the ET click function.\n",
    "\n",
    "Use Selenium's click function when you already have the element at hand: elem.click()\n",
    "\n",
    "Use ET's click function when you have a unique way to identify the element but do not have the element itself\n",
    "\n",
    "###### Selenium Method:\n",
    "\n",
    "elem.click()\n",
    "\n",
    "###### ET Method:\n",
    "\n",
    "gui.click('my_class', uid_type='CLASS_NAME', driver=narrowed)"
   ]
  },
  {
   "cell_type": "markdown",
   "metadata": {},
   "source": [
    "#### double_click(elem)\n",
    "\n",
    "gui.double_click(elem) double clicks on the element"
   ]
  },
  {
   "cell_type": "markdown",
   "metadata": {},
   "source": [
    "#### input(uid, content, driver=None, uid_type='ID', key=None)\n",
    "\n",
    "input('my_class', 'This is my input', driver=narrowed, uid_type='CLASS_NAME')\n",
    "\n",
    "The named key argument is used to send special keys after content is inputted.\n",
    "\n",
    "Currently supported keys are RETURN, TAB, NULL\n",
    "\n",
    "Ex:\n",
    "\n",
    "input('input', 'Hello!', driver=form, uid_type='TAG_NAME', key='RETURN')"
   ]
  },
  {
   "cell_type": "markdown",
   "metadata": {},
   "source": [
    "#### multi_click and multi_input\n",
    "\n",
    "multi_click(*args)\n",
    "\n",
    "multi_click take a variable number of arguments where each argument could either be a hardcoded ID or a tuple organized as such:\n",
    "\n",
    "(driver, class_name)\n",
    "\n",
    "where driver is the element that narrows the search and the class_name is the unique identifier inside the driver element.\n",
    "\n",
    "multi_input(inputs)\n",
    "\n",
    "inputs is a dictionary where each key is the ID and the value is the content to be entered into the input element."
   ]
  },
  {
   "cell_type": "markdown",
   "metadata": {},
   "source": [
    "#### fill_fieldset(inputs, driver=None)\n",
    "\n",
    "Here, you should pass in an element into the driver argument at the fieldset level.\n",
    "\n",
    "e.g. bridge('fieldset', uid_type='TAG_NAME')\n",
    "\n",
    "The keys are the text description for the input at each 'x-field', and the value is the content to be inputted at the corresponding input element\n",
    "\n",
    "Note the key contains the entire description including the colon at the end.\n",
    "\n",
    "See example in device.add_device()\n",
    "\n",
    "gui.fill_fieldset({'Device Name:' : 'devname', 'Model:' : 'vm-series', 'Hostname/IP:' '1.1.1.1', 'Serial:' : '5'}, driver=fieldset_element)\n",
    "\n",
    "Note: You should only use fill_fielset if each x-field element contains a text-input element and each x-field has a text attribute that represents a description of what the input is."
   ]
  },
  {
   "cell_type": "markdown",
   "metadata": {},
   "source": [
    "#### text_choices(choice, driver=None)\n",
    "\n",
    "Allows you to click on one of a limited number of text_choices by simply providing the text of the desired choice\n",
    "\n",
    "Ex: text_choice('Yes', driver=confirm_window)\n",
    "\n",
    "Note: You should narrow the driver to the window or element containing the text choices."
   ]
  },
  {
   "cell_type": "markdown",
   "metadata": {},
   "source": [
    "## Navigate"
   ]
  },
  {
   "cell_type": "markdown",
   "metadata": {},
   "source": [
    "bridge is explained above\n",
    "\n",
    "#### tab(name, driver=None)\n",
    "\n",
    "The tab function navigates to page by clicking the tab with the same text as the name argument\n",
    "\n",
    "If there are multiple tabs on the page with the same name, use the driver argument to narrow search"
   ]
  },
  {
   "cell_type": "markdown",
   "metadata": {},
   "source": [
    "#### _element_dictionary(uid, uid_type='CLASS_NAME', driver=None)\n",
    "\n",
    "element dictionary is an extremely important function\n",
    "\n",
    "It takes all the elements on the page that match the uid and creates a dictionary where the key is the text in the element and the value is the element itself.\n",
    "\n",
    "The default uid_type is CLASS_NAME but it can be any non-unique attribute type"
   ]
  },
  {
   "cell_type": "markdown",
   "metadata": {},
   "source": [
    "#### _id_dictionary(uid, uid_type='CLASS_NAME', driver=None)\n",
    "\n",
    "id_dictionary works exactly as element_dictionary except the value of the dictionary is an ID not the element"
   ]
  },
  {
   "cell_type": "markdown",
   "metadata": {},
   "source": [
    "#### row_dictionary(table, key_type='Name', driver=None)\n",
    "\n",
    "table is the element at the 'x-grid' level\n",
    "\n",
    "key_type is the name of the column that will be used to construct keys for the returned dictionary\n",
    "\n",
    "row_dictionary returns a dictionary where each key is the text in the column specified by key_type for each row and the value is the row element itself.\n",
    "\n",
    "Note: You need named columns for this method to work."
   ]
  },
  {
   "cell_type": "markdown",
   "metadata": {},
   "source": [
    "## Expect"
   ]
  },
  {
   "cell_type": "markdown",
   "metadata": {},
   "source": [
    "The expect namespace allows for basic UI validation that is not element specific, rather validate the behavior of the UI as a whole.\n",
    "\n",
    "expect_url(url): Checks if url is the same as one provided\n",
    "\n",
    "expect_element(uid, uid_type='ID', driver=None, text=None)\n",
    "expect_element checks that an element with the unique identifiers (uid, uid_type, driver) exists. If text is provided, it also checks that element contains given text\n",
    "\n",
    "expect_popup: checks if a JavaScript popup appears on browser"
   ]
  },
  {
   "cell_type": "markdown",
   "metadata": {},
   "source": [
    "## Devices and Projects"
   ]
  },
  {
   "cell_type": "markdown",
   "metadata": {},
   "source": [
    "The devices and projects namespaces have prebuilt functions to be used in test scripts"
   ]
  },
  {
   "cell_type": "code",
   "execution_count": null,
   "metadata": {
    "collapsed": true
   },
   "outputs": [],
   "source": []
  }
 ],
 "metadata": {
  "kernelspec": {
   "display_name": "expedition",
   "language": "python",
   "name": "expedition"
  },
  "language_info": {
   "codemirror_mode": {
    "name": "ipython",
    "version": 3
   },
   "file_extension": ".py",
   "mimetype": "text/x-python",
   "name": "python",
   "nbconvert_exporter": "python",
   "pygments_lexer": "ipython3",
   "version": "3.6.2"
  }
 },
 "nbformat": 4,
 "nbformat_minor": 2
}
